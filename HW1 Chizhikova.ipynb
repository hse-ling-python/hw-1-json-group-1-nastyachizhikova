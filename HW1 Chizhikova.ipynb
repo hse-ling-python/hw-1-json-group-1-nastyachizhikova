{
 "cells": [
  {
   "cell_type": "markdown",
   "metadata": {},
   "source": [
    "### Домашнее задание 1. Чижикова Анастасия, БКЛ181"
   ]
  },
  {
   "cell_type": "markdown",
   "metadata": {},
   "source": [
    "#### Вопрос 1"
   ]
  },
  {
   "cell_type": "code",
   "execution_count": 11,
   "metadata": {},
   "outputs": [
    {
     "name": "stdout",
     "output_type": "stream",
     "text": [
      "The pycodestyle_magic extension is already loaded. To reload it, use:\n",
      "  %reload_ext pycodestyle_magic\n"
     ]
    }
   ],
   "source": [
    "#pip install pycodestyle flake8 pycodestyle_magic\n",
    "%load_ext pycodestyle_magic"
   ]
  },
  {
   "cell_type": "code",
   "execution_count": 12,
   "metadata": {
    "scrolled": true
   },
   "outputs": [
    {
     "name": "stdout",
     "output_type": "stream",
     "text": [
      "2556 твитов всего\n"
     ]
    }
   ],
   "source": [
    "import json\n",
    "import collections\n",
    "from pprint import pprint\n",
    "\n",
    "all_tweets = []\n",
    "for line in open('hw_3_twitter.json'):\n",
    "    all_tweets.append(json.loads(line))\n",
    "print(len(all_tweets), 'твитов всего')"
   ]
  },
  {
   "cell_type": "markdown",
   "metadata": {},
   "source": [
    "#### Вопрос 2"
   ]
  },
  {
   "cell_type": "code",
   "execution_count": 13,
   "metadata": {},
   "outputs": [
    {
     "name": "stdout",
     "output_type": "stream",
     "text": [
      "14.16% твитов - удалённые\n"
     ]
    }
   ],
   "source": [
    "del_numb = 0\n",
    "for t in all_tweets:\n",
    "    if \"delete\" in t:  # удаленный твит содержит ключ \"delete\"\n",
    "        del_numb += 1  # общее количество удаленных твитов\n",
    "del_perc = del_numb / len(all_tweets) * 100  # находим процент\n",
    "print(round(del_perc, 2), \"% твитов - удалённые\", sep='')"
   ]
  },
  {
   "cell_type": "markdown",
   "metadata": {},
   "source": [
    "#### Вопрос 3"
   ]
  },
  {
   "cell_type": "code",
   "execution_count": 14,
   "metadata": {},
   "outputs": [
    {
     "name": "stdout",
     "output_type": "stream",
     "text": [
      "Самые популярные языки твитов:\n",
      "en\n",
      "ja\n",
      "es\n"
     ]
    }
   ],
   "source": [
    "langs = collections.Counter()\n",
    "for t in all_tweets:\n",
    "    lang = t.get('lang', 'deleted')  # получаем все ключи, удаленные помечаем как \"deleted\"\n",
    "    langs[lang] += 1  # считаем количество твитов на каждом языке\n",
    "langs.pop('deleted')  # удаляем результаты для удаленных твитов\n",
    "populars = langs.most_common()[0:3]  # берем три самых популярных\n",
    "print('Самые популярные языки твитов:')\n",
    "for i in populars:\n",
    "    print(i[0])  # распечатываем только названия языков"
   ]
  },
  {
   "cell_type": "markdown",
   "metadata": {},
   "source": [
    "#### Вопрос 4"
   ]
  },
  {
   "cell_type": "code",
   "execution_count": 15,
   "metadata": {
    "scrolled": true
   },
   "outputs": [
    {
     "name": "stdout",
     "output_type": "stream",
     "text": [
      "Количество таких пользователей равно 25\n"
     ]
    }
   ],
   "source": [
    "names = []\n",
    "count = collections.Counter()\n",
    "for i in all_tweets:\n",
    "    if 'delete' not in i:  # проверка только неудаленных твитов\n",
    "        name = i['user']['screen_name']\n",
    "        count[name] += 1  # считаем количество твитов для каждого пользователя\n",
    "count = dict(count)\n",
    "number = 0  # заводим счетчик нужных пользователей\n",
    "for i in count:\n",
    "    if count[i] > 1:\n",
    "        number += 1\n",
    "print(\"Количество таких пользователей равно\", number)"
   ]
  },
  {
   "cell_type": "markdown",
   "metadata": {},
   "source": [
    "#### Вопрос 5"
   ]
  },
  {
   "cell_type": "code",
   "execution_count": 16,
   "metadata": {},
   "outputs": [
    {
     "name": "stdout",
     "output_type": "stream",
     "text": [
      "20 самых популярных хештегов:\n",
      "BTS\n",
      "방탄소년단\n",
      "AMAs\n",
      "人気投票ガチャ\n",
      "태형\n",
      "뷔\n",
      "BTSinChicago\n",
      "BTSLoveYourselfTour\n",
      "오늘의방탄\n",
      "PledgeForSwachhBharat\n",
      "MPN\n",
      "PCAs\n",
      "V\n",
      "시카고1회차공연\n",
      "เป๊กผลิตโชค\n",
      "JIMIN\n",
      "running\n",
      "NCT\n",
      "지민\n",
      "WajahmuPlastik\n"
     ]
    }
   ],
   "source": [
    "hashtags_list = []\n",
    "for t in all_tweets:\n",
    "    if 'delete' not in t:  # проверка только неудаленных твитов\n",
    "        h = t['entities']['hashtags']\n",
    "        hashtags_list.append(h)  # получаем список всех списков хештегов\n",
    "new_list = []  # создаем новый лист без пустых элементов\n",
    "for i in hashtags_list:\n",
    "    if i != []:\n",
    "        new_list.append(i)\n",
    "hash_count = collections.Counter()  # заводим счетчик для хештегов\n",
    "for n in new_list:\n",
    "        for i in n:\n",
    "            hashtag = i[\"text\"]  # получаем сам хештег\n",
    "            hash_count[hashtag] += 1  # считаем его\n",
    "top_hash = hash_count.most_common()[0:20]  # берем двадцать самых популярных\n",
    "print('20 самых популярных хештегов:')\n",
    "for a in top_hash:  # печатаем только сами хштеги без их количества\n",
    "    print(a[0])"
   ]
  },
  {
   "cell_type": "markdown",
   "metadata": {},
   "source": [
    "#### Вопрос 6"
   ]
  },
  {
   "cell_type": "code",
   "execution_count": 17,
   "metadata": {
    "scrolled": true
   },
   "outputs": [
    {
     "name": "stdout",
     "output_type": "stream",
     "text": [
      "Частотный словарь можно увидеть, убрав решетку перед предыдущей строкой\n"
     ]
    }
   ],
   "source": [
    "import string\n",
    "\n",
    "freq = collections.Counter()  # заводим частотный словарь\n",
    "for t in all_tweets:\n",
    "    if 'delete' not in t:  # проверка на удаленные твиты\n",
    "        if t['lang'] == 'en'and t['retweeted'] == False:  # отбираем только оригинальные твиты на английском языке \n",
    "            if 'retweeted_status' in t and 'extended_tweet' in t['retweeted_status']: \n",
    "                text = t['retweeted_status']['extended_tweet']['full_text']\n",
    "            elif 'retweeted_status' in t:\n",
    "                text = t['retweeted_status']['text']\n",
    "            else:\n",
    "                text = t['text']  # выше - проверка для разных типов твитов (не ретвитов)\n",
    "            text = text.lower()  # приведение к нижнему регистру\n",
    "            text = text.split()  # делим твит на слова\n",
    "            tw_words = [] \n",
    "            for i in text:  # в этом цикле получаем новый список слов без пунктуации для каждого тивта\n",
    "                word = i.strip(\",.»«?!\\\"()^:;\\'*\")\n",
    "                tw_words.append(word)\n",
    "            for w in tw_words:\n",
    "                freq[w] += 1\n",
    "#print(freq) \n",
    "print(\"Частотный словарь можно увидеть, убрав решетку перед предыдущей строкой\")"
   ]
  },
  {
   "cell_type": "markdown",
   "metadata": {},
   "source": [
    "#### Вопрос 7"
   ]
  },
  {
   "cell_type": "code",
   "execution_count": 21,
   "metadata": {},
   "outputs": [
    {
     "name": "stdout",
     "output_type": "stream",
     "text": [
      "Самые читаемые твиттер-аккаунты:\n",
      "FIL0S0FIA\n",
      "FitnessMagazine\n",
      "malaysiakini\n",
      "NYTScience\n",
      "GramaticaReal\n",
      "tgrthabertv\n",
      "TheSunFootball\n",
      "Melbourne\n",
      "Roznama_Express\n",
      "burger_boogie\n"
     ]
    }
   ],
   "source": [
    "foll_dict = collections.Counter()\n",
    "for t in all_tweets:\n",
    "    if 'delete' not in t:  # проверка только неудаленных твитов\n",
    "        name = t['user']['screen_name']  # узнаем имя пользоваетля\n",
    "        foll_numb = t['user']['followers_count']  # количество фолловеров\n",
    "        foll_dict[name] = foll_numb\n",
    "top = foll_dict.most_common()[0:10]\n",
    "print(\"Самые читаемые твиттер-аккаунты:\")\n",
    "for i in top:\n",
    "    print(i[0])"
   ]
  },
  {
   "cell_type": "code",
   "execution_count": null,
   "metadata": {},
   "outputs": [],
   "source": []
  }
 ],
 "metadata": {
  "kernelspec": {
   "display_name": "Python 3",
   "language": "python",
   "name": "python3"
  },
  "language_info": {
   "codemirror_mode": {
    "name": "ipython",
    "version": 3
   },
   "file_extension": ".py",
   "mimetype": "text/x-python",
   "name": "python",
   "nbconvert_exporter": "python",
   "pygments_lexer": "ipython3",
   "version": "3.7.3"
  }
 },
 "nbformat": 4,
 "nbformat_minor": 2
}
